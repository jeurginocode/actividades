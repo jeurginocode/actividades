{
  "nbformat": 4,
  "nbformat_minor": 0,
  "metadata": {
    "colab": {
      "provenance": [],
      "authorship_tag": "ABX9TyMv0xWYLgL8SBmyuaaY78UP",
      "include_colab_link": true
    },
    "kernelspec": {
      "name": "python3",
      "display_name": "Python 3"
    },
    "language_info": {
      "name": "python"
    }
  },
  "cells": [
    {
      "cell_type": "markdown",
      "metadata": {
        "id": "view-in-github",
        "colab_type": "text"
      },
      "source": [
        "<a href=\"https://colab.research.google.com/github/jeurginocode/actividades/blob/main/actividadparciles.ipynb\" target=\"_parent\"><img src=\"https://colab.research.google.com/assets/colab-badge.svg\" alt=\"Open In Colab\"/></a>"
      ]
    },
    {
      "cell_type": "markdown",
      "source": [
        "# segunda nota (actividad de Pseudocódigo y Diagramas de Flujo)"
      ],
      "metadata": {
        "id": "GbtGGCi0lwhu"
      }
    },
    {
      "cell_type": "markdown",
      "source": [
        "##primer punto:\n",
        "**Tarea:**Calcular la resistencia equivalente de 𝑛 nresistencias en paralelo.\n",
        "\n",
        "**Descripción:**Desarrolla un algoritmo que tome como entrada un valor 𝑛 que indica el número de resistencias en paralelo, el valor de cada una de ellas en ohmios, y calcule la resistencia equivalente. Tenga en cuenta que $1/Req = 1/R1 + 1/R2 .... 1/Rn$\n",
        "\n",
        "**Resultado:**La resistencia equivalente en ohmios.\n",
        "\n",
        "**Entradas:**Un valor 𝑛y 𝑛valores de resistencia en ohmios.\n",
        "\n",
        "**Ejemplo:** **Entrada**:3, 100, 200, 300; Salida **esperada:**54.54 (ohmios).\n",
        "\n"
      ],
      "metadata": {
        "id": "OPzqmTDumECy"
      }
    },
    {
      "cell_type": "code",
      "execution_count": null,
      "metadata": {
        "id": "e2_aF2j1lPyU"
      },
      "outputs": [],
      "source": [
        "##PSEUDOCODIGO\n",
        "\n",
        "# Start\n",
        "#     Declare Integer n\n",
        "#     Declare Real resistencia, total_resistencia, equivalente_resistencia\n",
        "\n",
        "#     Display \"Introduzca el número de resistencias en paralelo: \"\n",
        "#     Input n\n",
        "#     For i = 1 to n\n",
        "#       Display \"Introduza resistencia de la resistancia \", i, \" en ohms: \"\n",
        "#       Input resistencia\n",
        "\n",
        "\n",
        "#       Set total_resistencia=total_resistencia + (1 / resistencia)\n",
        "#     End For\n",
        "\n",
        "#     Set equivalente_resistencia = 1 / total_resistencia\n",
        "\n",
        "#     Display \"Equivalente resistencia: \", equivalente_resistencia, \"ohms\"\n",
        "\n",
        "# Stop\n",
        "\n",
        "\n",
        "##CODIGO\n",
        "\n",
        "n=int(input(\"número de resistencias en paralelo\"))\n",
        "resistenci= float(input(\"Introduza resistencia de la resistancia\"))\n",
        "\n",
        "\n"
      ]
    },
    {
      "cell_type": "markdown",
      "source": [
        "##segundo punto\n",
        "**Tarea:**Calcular la potencia disipada en un circuito con una resistencia dada y una corriente especificada.<br>\n",
        "**Descripción:**Escribe un algoritmo que tome como entrada el valor de la resistencia($R$)en ohmios y el valor de la corriente ($I$) en amperios, y calcule la potencia disipada en el circuito utilizando la ley de Joule.$ 𝑃=𝐼2𝑅.$\\\n",
        "**Resultado:**La potencia disipada en el circuito en vatios\\\n",
        "**Entradas**El valor de la resistencia en ohmios y el valor de la corriente en amperios.\\\n",
        "c50 (ohmios), 2 (amperios) **Salida esperada:**200 (vatios)"
      ],
      "metadata": {
        "id": "G6B3bM6q1vJN"
      }
    },
    {
      "cell_type": "code",
      "source": [
        "##PSEUDOCODIGO\n",
        "\n",
        "# Start\n",
        "\n",
        "#     Real resistancia, corriente, power\n",
        "\n",
        "#     Display \"inserte valores de la corriente en ohms: \"\n",
        "#     # Input resistance\n",
        "#     Input resistance\n",
        "\n",
        "#     Display \"Inserte el valor de corriente en amperios: \"\n",
        "#     # Input corriente\n",
        "#     Input corriente\n",
        "\n",
        "#     Set power = corriente * corriente * resistancia\n",
        "\n",
        "#     Display \"El poder dissipado en el circuito es: \", power, \" watts.\"\n",
        "\n",
        "# Stop\n",
        "\n",
        "##CODIGO\n",
        "\n"
      ],
      "metadata": {
        "id": "dC8kBjSL3-jx"
      },
      "execution_count": null,
      "outputs": []
    },
    {
      "cell_type": "markdown",
      "source": [
        "##tercer punto\n",
        "**Tarea:**Calcular la corriente eléctrica en una resistencia.\\\n",
        "**Descripcion:**: Escribe un algoritmo que tome como entrada el valor de la tensión (𝑉) en voltios y elnvalor de la resistencia (𝑅) en ohmios, y calcule la corriente eléctrica (𝐼) que circula por a través de ella utilizando la ley de Ohm 𝑉 = 𝑅� \\\n",
        "**Resultado:**La corriente eléctrica en una resistencia.\\\n",
        "**Entradas:**El valor de la tensión en voltios y el valor de la resistencia en ohmios.\\\n",
        "**Ejemplo:** **Entrada:**12 (voltios), 4 (ohmios); **Salida esperada:**3 (amperios) \\\n",
        "\n",
        "\n",
        "\n"
      ],
      "metadata": {
        "id": "BtiTEzWanWxJ"
      }
    },
    {
      "cell_type": "markdown",
      "source": [
        "#actividades y puntos de la dispositiva de ciclos\n"
      ],
      "metadata": {
        "id": "MkvSt0h3uihU"
      }
    },
    {
      "cell_type": "markdown",
      "source": [],
      "metadata": {
        "id": "AZaZ6v9mvny0"
      }
    }
  ]
}